{
 "cells": [
  {
   "cell_type": "code",
   "execution_count": 1,
   "id": "718131ff-a3f1-4e41-918b-57ed59ce5af3",
   "metadata": {
    "pycharm": {
     "is_executing": true
    }
   },
   "outputs": [],
   "source": [
    "%load_ext autoreload\n",
    "%autoreload 2"
   ]
  },
  {
   "cell_type": "code",
   "execution_count": 2,
   "id": "ae91ba35-9239-4dce-b767-0264c8e4809b",
   "metadata": {},
   "outputs": [],
   "source": [
    "%cd -q .."
   ]
  },
  {
   "cell_type": "code",
   "execution_count": 3,
   "id": "2d627399-e989-432e-b12f-f5aa1b62dae6",
   "metadata": {
    "pycharm": {
     "is_executing": true
    }
   },
   "outputs": [],
   "source": [
    "import lcpfn \n",
    "import torch \n",
    "import torch as th\n",
    "import json\n",
    "import os\n",
    "import numpy as np\n",
    "from matplotlib import pyplot as plt"
   ]
  },
  {
   "cell_type": "code",
   "execution_count": 13,
   "id": "939210fa",
   "metadata": {},
   "outputs": [],
   "source": [
    "def readDatasetJson(path):\n",
    "    f = open(path)\n",
    "\n",
    "    dataset = json.load(f)\n",
    "    # print(len(dataset))\n",
    "    \n",
    "    x = []\n",
    "    y = []\n",
    "\n",
    "    for v in dataset.values():\n",
    "        x.append(v[0])\n",
    "        y.append(v[1])\n",
    "        \n",
    "    x_true = th.Tensor(x)\n",
    "    y_true = th.Tensor(y)\n",
    "    \n",
    "    return x_true, y_true\n",
    "\n",
    "def find_file(root_dir, target_filename):\n",
    "    for root, dirs, files in os.walk(root_dir):\n",
    "        if target_filename in files:\n",
    "            return os.path.join(root, target_filename)\n",
    "    \n",
    "    # If the loop completes without returning, the file was not found\n",
    "    return None\n",
    "\n",
    "def find_data():\n",
    "    return find_file(os.getcwd(), 'data.json')\n",
    "\n",
    "def get_data():\n",
    "    return readDatasetJson(find_data())\n",
    "\n",
    "def get_test_batch(\n",
    "    batch_size,\n",
    "    num_features = 1,\n",
    "    seq_len = 26,\n",
    "    device = \"cpu\",\n",
    "):\n",
    "    assert num_features == 1\n",
    "\n",
    "    x_data, y_data = get_data()\n",
    "   \n",
    "    x_data = x_data[3302-batch_size:, :]\n",
    "    y_data = y_data[3302-batch_size:, :]\n",
    "    \n",
    "    y_data_noisy = y_data.clone()\n",
    "    \n",
    "    x_data = x_data.view((num_features, batch_size, seq_len)).transpose(2, 0).to(device)\n",
    "    y_data = y_data.transpose(1, 0).to(device)\n",
    "    y_data_noisy = y_data.clone()\n",
    "\n",
    "    return x_data, y_data, y_data_noisy\n",
    "\n",
    "def get_batch(\n",
    "    batch_size,\n",
    "    seq_len,\n",
    "    num_features,\n",
    "    device=\"cpu\",\n",
    "    noisy_target=True,\n",
    "    **_,\n",
    "):\n",
    "    assert num_features == 1\n",
    "\n",
    "    x_data, y_data = get_data()\n",
    "    print(x_data.shape)\n",
    "    x_data = x_data[:batch_size, :]\n",
    "    y_data = y_data[:batch_size, :]\n",
    "\n",
    "    y_data_noisy = y_data.clone()\n",
    "\n",
    "    x_data = x_data.view((num_features, batch_size, seq_len)).transpose(2, 0).to(device)\n",
    "    y_data = y_data.transpose(1, 0).to(device)\n",
    "    y_data_noisy = y_data.clone()\n",
    "\n",
    "    return x_data, y_data, y_data_noisy"
   ]
  },
  {
   "cell_type": "markdown",
   "id": "d6dc8df6-5267-4888-bc5a-e5e942331b79",
   "metadata": {},
   "source": [
    "## Load trained LC-PFN model"
   ]
  },
  {
   "cell_type": "code",
   "execution_count": 5,
   "id": "e4188fdb-4a1e-4508-9530-8d2448e238cb",
   "metadata": {
    "pycharm": {
     "is_executing": true
    }
   },
   "outputs": [
    {
     "name": "stdout",
     "output_type": "stream",
     "text": [
      "Using cpu:0 device\n",
      "init dist\n",
      "Not using distributed\n",
      "DataLoader.__dict__ {'num_steps': 100, 'get_batch_kwargs': {'batch_size': 1651, 'eval_pos_seq_len_sampler': <function train.<locals>.eval_pos_seq_len_sampler at 0x0000028616AE1940>, 'seq_len_maximum': 26, 'device': 'cpu:0', 'num_features': 1, 'hyperparameters': {}}, 'num_features': 1}\n",
      "torch.Size([3302, 26])\n",
      "Style definition: None\n",
      "Using a Transformer with 6.46 M parameters\n"
     ]
    }
   ],
   "source": [
    "result = lcpfn.train_lcpfn(get_batch_func=get_batch, \n",
    "                         seq_len=26,\n",
    "                         emsize=256,\n",
    "                         nlayers=12,\n",
    "                         lr=0.001,\n",
    "                         batch_size=1651,\n",
    "                         epochs=0)\n",
    "\n",
    "result[2].load_state_dict(th.load(\"C:\\\\Users\\\\mjaic\\\\OneDrive\\\\Desktop\\\\Delft\\\\Year 1\\\\Q3\\\\Deep Learning\\\\deep-learning-project\\\\notebooks\\\\model_1651.pth\"))\n",
    "model = result[2]\n",
    "\n",
    "model = lcpfn.LCPFN(model)"
   ]
  },
  {
   "cell_type": "markdown",
   "id": "03d80175-5f10-404a-85ce-59505f043691",
   "metadata": {},
   "source": [
    "## Generate a learning curve from the prior"
   ]
  },
  {
   "cell_type": "code",
   "execution_count": 31,
   "id": "fafc60aa-0681-494f-9be3-09b40e1495ad",
   "metadata": {
    "pycharm": {
     "is_executing": true
    }
   },
   "outputs": [
    {
     "data": {
      "text/plain": [
       "(0.0, 1.0)"
      ]
     },
     "execution_count": 31,
     "metadata": {},
     "output_type": "execute_result"
    },
    {
     "data": {
      "image/png": "[encoded data removed]",
      "text/plain": [
       "<Figure size 640x480 with 1 Axes>"
      ]
     },
     "metadata": {},
     "output_type": "display_data"
    }
   ],
   "source": [
    "prior = lcpfn.sample_from_prior(np.random)\n",
    "curve, _ = prior()\n",
    "plt.plot(curve, \"black\")\n",
    "plt.ylim(0, 1)"
   ]
  },
  {
   "cell_type": "markdown",
   "id": "18d1ceef-30a8-47c7-9754-ed7bf194cd37",
   "metadata": {},
   "source": [
    "## Extrapolate the learning curve with a cutoff of 10% "
   ]
  },
  {
   "cell_type": "code",
   "execution_count": 37,
   "id": "3610482a-5e21-4109-a3b3-16d937e26cd9",
   "metadata": {},
   "outputs": [],
   "source": [
    "# construct \n",
    "\n",
    "# x = torch.arange(1, 101).unsqueeze(1)\n",
    "# y = torch.from_numpy(curve).float().unsqueeze(1)\n",
    "# cutoff = 10\n",
    "\n",
    "x, y, _ = get_test_batch(1)\n",
    "x = x.squeeze(dim=-1)\n",
    "cutoff = 13\n"
   ]
  },
  {
   "cell_type": "code",
   "execution_count": 47,
   "id": "31d375db-ec12-41d0-86b7-0ceffebdd908",
   "metadata": {},
   "outputs": [
    {
     "name": "stdout",
     "output_type": "stream",
     "text": [
      "tensor([[0.9985],\n",
      "        [0.9973],\n",
      "        [1.0000],\n",
      "        [1.0000],\n",
      "        [1.0000],\n",
      "        [1.0000],\n",
      "        [1.0000],\n",
      "        [1.0000],\n",
      "        [1.0000],\n",
      "        [1.0000],\n",
      "        [1.0000],\n",
      "        [0.9999],\n",
      "        [0.9998],\n",
      "        [0.9996],\n",
      "        [0.9996],\n",
      "        [0.9995],\n",
      "        [0.9994],\n",
      "        [0.9992],\n",
      "        [0.9991],\n",
      "        [0.9989],\n",
      "        [0.9987],\n",
      "        [0.9984],\n",
      "        [0.9982],\n",
      "        [0.9978],\n",
      "        [0.9974],\n",
      "        [0.9971]])\n"
     ]
    },
    {
     "data": {
      "image/png": "[encoded data removed]",
      "text/plain": [
       "<Figure size 640x480 with 1 Axes>"
      ]
     },
     "metadata": {},
     "output_type": "display_data"
    }
   ],
   "source": [
    "#predictions = model.predict_quantiles(x_train=x[:cutoff], y_train=y[:cutoff], x_test=x[cutoff:], qs=[0.05, 0.5, 0.95])\n",
    "\n",
    "predictions = model.forward(x_train=x[:cutoff], y_train=y[:cutoff], x_test=x[cutoff:])\n",
    "predictions = predictions.squeeze(-1)\n"
   ]
  },
  {
   "cell_type": "code",
   "execution_count": 45,
   "id": "e96900b1-c844-4540-9d9c-183429c525f1",
   "metadata": {},
   "outputs": [
    {
     "ename": "IndexError",
     "evalue": "index 1 is out of bounds for dimension 1 with size 1",
     "output_type": "error",
     "traceback": [
      "\u001b[1;31m---------------------------------------------------------------------------\u001b[0m",
      "\u001b[1;31mIndexError\u001b[0m                                Traceback (most recent call last)",
      "Cell \u001b[1;32mIn[45], line 5\u001b[0m\n\u001b[0;32m      2\u001b[0m plt\u001b[38;5;241m.\u001b[39mplot(curve, \u001b[38;5;124m\"\u001b[39m\u001b[38;5;124mblack\u001b[39m\u001b[38;5;124m\"\u001b[39m, label\u001b[38;5;241m=\u001b[39m\u001b[38;5;124m\"\u001b[39m\u001b[38;5;124mtarget\u001b[39m\u001b[38;5;124m\"\u001b[39m)\n\u001b[0;32m      4\u001b[0m \u001b[38;5;66;03m# plot extrapolation\u001b[39;00m\n\u001b[1;32m----> 5\u001b[0m plt\u001b[38;5;241m.\u001b[39mplot(x[cutoff:], \u001b[43mpredictions\u001b[49m\u001b[43m[\u001b[49m\u001b[43m:\u001b[49m\u001b[43m,\u001b[49m\u001b[43m \u001b[49m\u001b[38;5;241;43m1\u001b[39;49m\u001b[43m]\u001b[49m, \u001b[38;5;124m\"\u001b[39m\u001b[38;5;124mblue\u001b[39m\u001b[38;5;124m\"\u001b[39m, label\u001b[38;5;241m=\u001b[39m\u001b[38;5;124m\"\u001b[39m\u001b[38;5;124mExtrapolation by PFN\u001b[39m\u001b[38;5;124m\"\u001b[39m)\n\u001b[0;32m      6\u001b[0m plt\u001b[38;5;241m.\u001b[39mfill_between(\n\u001b[0;32m      7\u001b[0m         x[cutoff:]\u001b[38;5;241m.\u001b[39mflatten(), predictions[:, \u001b[38;5;241m0\u001b[39m], predictions[:, \u001b[38;5;241m2\u001b[39m], color\u001b[38;5;241m=\u001b[39m\u001b[38;5;124m\"\u001b[39m\u001b[38;5;124mblue\u001b[39m\u001b[38;5;124m\"\u001b[39m, alpha\u001b[38;5;241m=\u001b[39m\u001b[38;5;241m0.2\u001b[39m, label\u001b[38;5;241m=\u001b[39m\u001b[38;5;124m\"\u001b[39m\u001b[38;5;124mCI of 90\u001b[39m\u001b[38;5;124m%\u001b[39m\u001b[38;5;124m\"\u001b[39m\n\u001b[0;32m      8\u001b[0m )\n\u001b[0;32m     10\u001b[0m \u001b[38;5;66;03m# plot cutoff\u001b[39;00m\n",
      "\u001b[1;31mIndexError\u001b[0m: index 1 is out of bounds for dimension 1 with size 1"
     ]
    },
    {
     "data": {
      "image/png": "[encoded data removed]",
      "text/plain": [
       "<Figure size 640x480 with 1 Axes>"
      ]
     },
     "metadata": {},
     "output_type": "display_data"
    }
   ],
   "source": [
    "# plot data\n",
    "plt.plot(curve, \"black\", label=\"target\")\n",
    "\n",
    "# plot extrapolation\n",
    "plt.plot(x[cutoff:], predictions[:, 1], \"blue\", label=\"Extrapolation by PFN\")\n",
    "plt.fill_between(\n",
    "        x[cutoff:].flatten(), predictions[:, 0], predictions[:, 2], color=\"blue\", alpha=0.2, label=\"CI of 90%\"\n",
    ")\n",
    "\n",
    "# plot cutoff\n",
    "plt.vlines(cutoff, 0, 1, linewidth=0.5, color=\"k\", label=\"cutoff\")\n",
    "plt.ylim(0, 1)\n",
    "plt.legend(loc=\"lower right\")"
   ]
  },
  {
   "cell_type": "code",
   "execution_count": null,
   "id": "5a728979",
   "metadata": {},
   "outputs": [],
   "source": []
  }
 ],
 "metadata": {
  "kernelspec": {
   "display_name": "lcpfn",
   "language": "python",
   "name": "python3"
  },
  "language_info": {
   "codemirror_mode": {
    "name": "ipython",
    "version": 3
   },
   "file_extension": ".py",
   "mimetype": "text/x-python",
   "name": "python",
   "nbconvert_exporter": "python",
   "pygments_lexer": "ipython3",
   "version": "3.9.19"
  }
 },
 "nbformat": 4,
 "nbformat_minor": 5
}
