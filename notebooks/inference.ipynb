{
 "cells": [
  {
   "cell_type": "code",
   "execution_count": 1,
   "id": "718131ff-a3f1-4e41-918b-57ed59ce5af3",
   "metadata": {
    "pycharm": {
     "is_executing": true
    }
   },
   "outputs": [],
   "source": [
    "%load_ext autoreload\n",
    "%autoreload 2"
   ]
  },
  {
   "cell_type": "code",
   "execution_count": 2,
   "id": "ae91ba35-9239-4dce-b767-0264c8e4809b",
   "metadata": {},
   "outputs": [],
   "source": [
    "%cd -q .."
   ]
  },
  {
   "cell_type": "code",
   "execution_count": 3,
   "id": "2d627399-e989-432e-b12f-f5aa1b62dae6",
   "metadata": {
    "pycharm": {
     "is_executing": true
    }
   },
   "outputs": [],
   "source": [
    "import lcpfn \n",
    "import torch \n",
    "import torch as th\n",
    "import json\n",
    "import os\n",
    "import numpy as np\n",
    "from matplotlib import pyplot as plt"
   ]
  },
  {
   "cell_type": "code",
   "execution_count": 79,
   "id": "939210fa",
   "metadata": {},
   "outputs": [],
   "source": [
    "def readDatasetJson(path):\n",
    "    f = open(path)\n",
    "\n",
    "    dataset = json.load(f)\n",
    "    # print(len(dataset))\n",
    "    \n",
    "    x = []\n",
    "    y = []\n",
    "\n",
    "    for v in dataset.values():\n",
    "        x.append(v[0])\n",
    "        y.append(v[1])\n",
    "        \n",
    "    x_true = th.Tensor(x)\n",
    "    y_true = th.Tensor(y)\n",
    "    \n",
    "    return x_true, y_true\n",
    "\n",
    "def find_file(root_dir, target_filename):\n",
    "    for root, dirs, files in os.walk(root_dir):\n",
    "        if target_filename in files:\n",
    "            return os.path.join(root, target_filename)\n",
    "    \n",
    "    # If the loop completes without returning, the file was not found\n",
    "    return None\n",
    "\n",
    "def find_data():\n",
    "    return find_file(os.getcwd(), 'data.json')\n",
    "\n",
    "def get_data():\n",
    "    return readDatasetJson(find_data())\n",
    "\n",
    "def get_test_batch(\n",
    "    batch_size,\n",
    "    num_features = 1,\n",
    "    seq_len = 26,\n",
    "    device = \"cpu\",\n",
    "):\n",
    "    assert num_features == 1\n",
    "\n",
    "    x_data, y_data = get_data()\n",
    "   \n",
    "    x_data = x_data[3302-batch_size:, :]\n",
    "    y_data = y_data[3302-batch_size:, :]\n",
    "    \n",
    "    y_data_noisy = y_data.clone()\n",
    "    \n",
    "    x_data = x_data.view((num_features, batch_size, seq_len)).transpose(2, 0).to(device)\n",
    "    y_data = y_data.transpose(1, 0).to(device)\n",
    "    y_data_noisy = y_data.clone()\n",
    "\n",
    "    return x_data, y_data, y_data_noisy\n",
    "\n",
    "def get_random(num_features=1, seq_len=26, device='cpu'):\n",
    "    assert num_features == 1\n",
    "    x_data, y_data = get_data()\n",
    "    ind = np.random.randint(0, 3302)\n",
    "    x_data = x_data[ind, :]\n",
    "    y_data = y_data[ind, :]\n",
    "\n",
    "    print(x_data.shape)\n",
    "    print(y_data.shape)\n",
    "\n",
    "    # x_data = x_data.view((num_features, 1, seq_len)).transpose(2, 0).to(device)\n",
    "    # y_data = y_data.transpose(1, 0).to(device)\n",
    "    return x_data, y_data\n",
    "\n",
    "def get_batch(\n",
    "    batch_size,\n",
    "    seq_len,\n",
    "    num_features,\n",
    "    device=\"cpu\",\n",
    "    noisy_target=True,\n",
    "    **_,\n",
    "):\n",
    "    assert num_features == 1\n",
    "\n",
    "    x_data, y_data = get_data()\n",
    "    print(x_data.shape)\n",
    "    x_data = x_data[:batch_size, :]\n",
    "    y_data = y_data[:batch_size, :]\n",
    "\n",
    "    y_data_noisy = y_data.clone()\n",
    "\n",
    "    x_data = x_data.view((num_features, batch_size, seq_len)).transpose(2, 0).to(device)\n",
    "    y_data = y_data.transpose(1, 0).to(device)\n",
    "    y_data_noisy = y_data.clone()\n",
    "\n",
    "    return x_data, y_data, y_data_noisy"
   ]
  },
  {
   "cell_type": "markdown",
   "id": "d6dc8df6-5267-4888-bc5a-e5e942331b79",
   "metadata": {},
   "source": [
    "## Load trained LC-PFN model"
   ]
  },
  {
   "cell_type": "code",
   "execution_count": 80,
   "id": "e4188fdb-4a1e-4508-9530-8d2448e238cb",
   "metadata": {
    "pycharm": {
     "is_executing": true
    }
   },
   "outputs": [
    {
     "name": "stdout",
     "output_type": "stream",
     "text": [
      "Using cpu:0 device\n",
      "init dist\n",
      "Not using distributed\n",
      "DataLoader.__dict__ {'num_steps': 100, 'get_batch_kwargs': {'batch_size': 1651, 'eval_pos_seq_len_sampler': <function train.<locals>.eval_pos_seq_len_sampler at 0x7de9b49a3160>, 'seq_len_maximum': 26, 'device': 'cpu:0', 'num_features': 1, 'hyperparameters': {}}, 'num_features': 1}\n",
      "torch.Size([3302, 26])\n",
      "Style definition: None\n",
      "Using a Transformer with 6.46 M parameters\n"
     ]
    }
   ],
   "source": [
    "result = lcpfn.train_lcpfn(get_batch_func=get_batch, \n",
    "                         seq_len=26,\n",
    "                         emsize=256,\n",
    "                         nlayers=12,\n",
    "                         lr=0.001,\n",
    "                         batch_size=1651,\n",
    "                         epochs=0)\n",
    "\n",
    "result[2].load_state_dict(th.load(\"/home/patrik/new/dl/reproducibility/deep-learning-project/notebooks/model_1651.pth\"))\n",
    "model = result[2]\n",
    "\n",
    "model = lcpfn.LCPFN(model)"
   ]
  },
  {
   "cell_type": "markdown",
   "id": "03d80175-5f10-404a-85ce-59505f043691",
   "metadata": {},
   "source": [
    "## Generate a learning curve from the prior"
   ]
  },
  {
   "cell_type": "code",
   "execution_count": 81,
   "id": "fafc60aa-0681-494f-9be3-09b40e1495ad",
   "metadata": {
    "pycharm": {
     "is_executing": true
    }
   },
   "outputs": [
    {
     "data": {
      "text/plain": [
       "(0.0, 1.0)"
      ]
     },
     "execution_count": 81,
     "metadata": {},
     "output_type": "execute_result"
    },
    {
     "data": {
      "image/png": "[encoded data removed]",
      "text/plain": [
       "<Figure size 640x480 with 1 Axes>"
      ]
     },
     "metadata": {},
     "output_type": "display_data"
    }
   ],
   "source": [
    "prior = lcpfn.sample_from_prior(np.random)\n",
    "curve, _ = prior()\n",
    "plt.plot(curve, \"black\")\n",
    "plt.ylim(0, 1)"
   ]
  },
  {
   "cell_type": "markdown",
   "id": "18d1ceef-30a8-47c7-9754-ed7bf194cd37",
   "metadata": {},
   "source": [
    "## Extrapolate the learning curve with a cutoff of 10% "
   ]
  },
  {
   "cell_type": "code",
   "execution_count": 82,
   "metadata": {},
   "outputs": [
    {
     "data": {
      "text/plain": [
       "array([0.58595502, 0.69629716, 0.73451529, 0.75428126, 0.76649555,\n",
       "       0.77485172, 0.7809587 , 0.78563378, 0.78933788, 0.79235154,\n",
       "       0.79485571, 0.79697261, 0.79878785, 0.80036331, 0.80174484,\n",
       "       0.80296719, 0.80405721, 0.80503595, 0.8059202 , 0.80672348,\n",
       "       0.80745683, 0.80812937, 0.80874867, 0.80932107, 0.80985196,\n",
       "       0.81034591, 0.81080683, 0.81123812, 0.8116427 , 0.81202312,\n",
       "       0.81238162, 0.81272016, 0.81304048, 0.81334411, 0.81363242,\n",
       "       0.81390664, 0.81416785, 0.81441704, 0.81465509, 0.81488281,\n",
       "       0.8151009 , 0.81531004, 0.81551081, 0.81570377, 0.81588941,\n",
       "       0.81606819, 0.81624052, 0.81640679, 0.81656736, 0.81672255,\n",
       "       0.81687266, 0.81701797, 0.81715874, 0.81729521, 0.81742761,\n",
       "       0.81755614, 0.817681  , 0.81780236, 0.81792039, 0.81803526,\n",
       "       0.81814711, 0.81825608, 0.81836229, 0.81846588, 0.81856695,\n",
       "       0.81866562, 0.81876198, 0.81885613, 0.81894816, 0.81903816,\n",
       "       0.81912621, 0.81921238, 0.81929675, 0.81937939, 0.81946035,\n",
       "       0.8195397 , 0.81961751, 0.81969382, 0.81976869, 0.81984217,\n",
       "       0.8199143 , 0.81998514, 0.82005472, 0.82012309, 0.82019029,\n",
       "       0.82025635, 0.82032132, 0.82038522, 0.82044808, 0.82050995,\n",
       "       0.82057085, 0.8206308 , 0.82068985, 0.82074801, 0.8208053 ,\n",
       "       0.82086176, 0.82091741, 0.82097227, 0.82102635, 0.82107969])"
      ]
     },
     "execution_count": 82,
     "metadata": {},
     "output_type": "execute_result"
    }
   ],
   "source": [
    "curve"
   ]
  },
  {
   "cell_type": "code",
   "execution_count": 111,
   "id": "3610482a-5e21-4109-a3b3-16d937e26cd9",
   "metadata": {},
   "outputs": [
    {
     "name": "stdout",
     "output_type": "stream",
     "text": [
      "torch.Size([26])\n",
      "torch.Size([26])\n"
     ]
    }
   ],
   "source": [
    "# construct \n",
    "\n",
    "# x = torch.arange(1, 101).unsqueeze(1)\n",
    "# y = torch.from_numpy(curve).float().unsqueeze(1)\n",
    "# cutoff = 10\n",
    "\n",
    "x, y = get_random()\n",
    "x = x.squeeze(dim=-1)\n",
    "cutoff = 13\n"
   ]
  },
  {
   "cell_type": "code",
   "execution_count": 112,
   "metadata": {},
   "outputs": [
    {
     "data": {
      "text/plain": [
       "torch.Size([26])"
      ]
     },
     "execution_count": 112,
     "metadata": {},
     "output_type": "execute_result"
    }
   ],
   "source": [
    "x.shape"
   ]
  },
  {
   "cell_type": "code",
   "execution_count": 113,
   "metadata": {},
   "outputs": [
    {
     "data": {
      "text/plain": [
       "torch.Size([26])"
      ]
     },
     "execution_count": 113,
     "metadata": {},
     "output_type": "execute_result"
    }
   ],
   "source": [
    "y.shape"
   ]
  },
  {
   "cell_type": "code",
   "execution_count": 114,
   "id": "31d375db-ec12-41d0-86b7-0ceffebdd908",
   "metadata": {},
   "outputs": [
    {
     "data": {
      "text/plain": [
       "torch.Size([13])"
      ]
     },
     "execution_count": 114,
     "metadata": {},
     "output_type": "execute_result"
    }
   ],
   "source": [
    "#predictions = model.predict_quantiles(x_train=x[:cutoff], y_train=y[:cutoff], x_test=x[cutoff:], qs=[0.05, 0.5, 0.95])\n",
    "\n",
    "predictions = model.forward(x_train=x[:cutoff], y_train=y[:cutoff], x_test=x[cutoff:])\n",
    "predictions = predictions.squeeze(-1)\n"
   ]
  },
  {
   "cell_type": "code",
   "execution_count": 115,
   "metadata": {},
   "outputs": [
    {
     "data": {
      "text/plain": [
       "13"
      ]
     },
     "execution_count": 115,
     "metadata": {},
     "output_type": "execute_result"
    }
   ],
   "source": [
    "cutoff"
   ]
  },
  {
   "cell_type": "code",
   "execution_count": 116,
   "metadata": {},
   "outputs": [
    {
     "data": {
      "text/plain": [
       "tensor([0.9052, 0.9051, 0.9113, 0.9101, 0.9099, 0.9059, 0.9067, 0.9092, 0.9219,\n",
       "        0.9130, 0.9187, 0.9200, 0.9219, 0.9187, 0.9078, 0.9114, 0.9109, 0.9138,\n",
       "        0.9043, 0.9092, 0.9127, 0.9116, 0.9102, 0.9128, 0.9142, 0.9218])"
      ]
     },
     "execution_count": 116,
     "metadata": {},
     "output_type": "execute_result"
    }
   ],
   "source": [
    "y"
   ]
  },
  {
   "cell_type": "code",
   "execution_count": 117,
   "metadata": {},
   "outputs": [
    {
     "data": {
      "text/plain": [
       "array([0.9302609 , 0.93026066, 0.9302638 , 0.9302654 , 0.93026507,\n",
       "       0.9302665 , 0.93026745, 0.9302712 , 0.93028104, 0.9302779 ,\n",
       "       0.93027127, 0.93028104, 0.93028826], dtype=float32)"
      ]
     },
     "execution_count": 117,
     "metadata": {},
     "output_type": "execute_result"
    }
   ],
   "source": [
    "pred = predictions.detach().numpy().flatten()\n",
    "pred"
   ]
  },
  {
   "cell_type": "code",
   "execution_count": 118,
   "metadata": {},
   "outputs": [
    {
     "data": {
      "text/plain": [
       "(13,)"
      ]
     },
     "execution_count": 118,
     "metadata": {},
     "output_type": "execute_result"
    }
   ],
   "source": [
    "pred.shape"
   ]
  },
  {
   "cell_type": "code",
   "execution_count": 119,
   "metadata": {},
   "outputs": [
    {
     "data": {
      "text/plain": [
       "array([0.27474624, 0.2708615 , 0.33139157, 0.35804507, 0.35407767,\n",
       "       0.37617332, 0.39769873, 0.4686084 , 0.658348  , 0.59852946,\n",
       "       0.47009453, 0.66278315, 0.8097087 ], dtype=float32)"
      ]
     },
     "execution_count": 119,
     "metadata": {},
     "output_type": "execute_result"
    }
   ],
   "source": [
    "xs = x[cutoff:].numpy().flatten()\n",
    "xs"
   ]
  },
  {
   "cell_type": "code",
   "execution_count": 120,
   "metadata": {},
   "outputs": [
    {
     "data": {
      "text/plain": [
       "(13,)"
      ]
     },
     "execution_count": 120,
     "metadata": {},
     "output_type": "execute_result"
    }
   ],
   "source": [
    "xs.shape"
   ]
  },
  {
   "cell_type": "code",
   "execution_count": 121,
   "metadata": {},
   "outputs": [],
   "source": [
    "x_plot = x.numpy().flatten()"
   ]
  },
  {
   "cell_type": "code",
   "execution_count": 122,
   "metadata": {},
   "outputs": [],
   "source": [
    "y_plot = y.numpy().flatten()"
   ]
  },
  {
   "cell_type": "code",
   "execution_count": 123,
   "id": "e96900b1-c844-4540-9d9c-183429c525f1",
   "metadata": {},
   "outputs": [
    {
     "data": {
      "text/plain": [
       "(0.0, 0.9302882552146912)"
      ]
     },
     "execution_count": 123,
     "metadata": {},
     "output_type": "execute_result"
    },
    {
     "data": {
      "image/png": "[encoded data removed]",
      "text/plain": [
       "<Figure size 640x480 with 1 Axes>"
      ]
     },
     "metadata": {},
     "output_type": "display_data"
    }
   ],
   "source": [
    "plt.scatter(xs, pred)\n",
    "plt.plot(x_plot, y_plot, color='black')\n",
    "plt.ylim([0, max(list(y_plot) + list(pred))])"
   ]
  },
  {
   "cell_type": "code",
   "execution_count": 125,
   "id": "5a728979",
   "metadata": {},
   "outputs": [
    {
     "data": {
      "text/plain": [
       "<matplotlib.collections.PathCollection at 0x7de9b513f8e0>"
      ]
     },
     "execution_count": 125,
     "metadata": {},
     "output_type": "execute_result"
    },
    {
     "data": {
      "image/png": "[encoded data removed]",
      "text/plain": [
       "<Figure size 640x480 with 1 Axes>"
      ]
     },
     "metadata": {},
     "output_type": "display_data"
    }
   ],
   "source": [
    "plt.scatter(x_plot, y_plot)"
   ]
  },
  {
   "cell_type": "code",
   "execution_count": null,
   "metadata": {},
   "outputs": [],
   "source": []
  }
 ],
 "metadata": {
  "kernelspec": {
   "display_name": "lcpfn",
   "language": "python",
   "name": "python3"
  },
  "language_info": {
   "codemirror_mode": {
    "name": "ipython",
    "version": 3
   },
   "file_extension": ".py",
   "mimetype": "text/x-python",
   "name": "python",
   "nbconvert_exporter": "python",
   "pygments_lexer": "ipython3",
   "version": "3.9.19"
  }
 },
 "nbformat": 4,
 "nbformat_minor": 5
}
