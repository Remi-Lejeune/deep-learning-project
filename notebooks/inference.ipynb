{
 "cells": [
  {
   "cell_type": "code",
   "execution_count": 1,
   "id": "718131ff-a3f1-4e41-918b-57ed59ce5af3",
   "metadata": {
    "pycharm": {
     "is_executing": true
    }
   },
   "outputs": [],
   "source": [
    "%load_ext autoreload\n",
    "%autoreload 2"
   ]
  },
  {
   "cell_type": "code",
   "execution_count": 2,
   "id": "ae91ba35-9239-4dce-b767-0264c8e4809b",
   "metadata": {},
   "outputs": [],
   "source": [
    "%cd -q .."
   ]
  },
  {
   "cell_type": "code",
   "execution_count": 3,
   "id": "2d627399-e989-432e-b12f-f5aa1b62dae6",
   "metadata": {
    "pycharm": {
     "is_executing": true
    }
   },
   "outputs": [],
   "source": [
    "import lcpfn \n",
    "import torch \n",
    "import torch as th\n",
    "import json\n",
    "import os\n",
    "import numpy as np\n",
    "from matplotlib import pyplot as plt"
   ]
  },
  {
   "cell_type": "code",
   "execution_count": 133,
   "id": "939210fa",
   "metadata": {},
   "outputs": [],
   "source": [
    "def readDatasetJson(path):\n",
    "    f = open(path)\n",
    "\n",
    "    dataset = json.load(f)\n",
    "    # print(len(dataset))\n",
    "    \n",
    "    x = []\n",
    "    y = []\n",
    "\n",
    "    for v in dataset.values():\n",
    "        x.append(v[0])\n",
    "        y.append(v[1])\n",
    "        \n",
    "    x_true = th.Tensor(x)\n",
    "    y_true = th.Tensor(y)\n",
    "    \n",
    "    return x_true, y_true\n",
    "\n",
    "def find_file(root_dir, target_filename):\n",
    "    for root, dirs, files in os.walk(root_dir):\n",
    "        if target_filename in files:\n",
    "            return os.path.join(root, target_filename)\n",
    "    \n",
    "    # If the loop completes without returning, the file was not found\n",
    "    return None\n",
    "\n",
    "def find_data():\n",
    "    return find_file(os.getcwd(), 'data.json')\n",
    "\n",
    "def get_data():\n",
    "    return readDatasetJson(find_data())\n",
    "\n",
    "def get_test_batch(\n",
    "    batch_size,\n",
    "    num_features = 1,\n",
    "    seq_len = 26,\n",
    "    device = \"cpu\",\n",
    "):\n",
    "    assert num_features == 1\n",
    "\n",
    "    x_data, y_data = get_data()\n",
    "   \n",
    "    x_data = x_data[3302-batch_size:, :]\n",
    "    y_data = y_data[3302-batch_size:, :]\n",
    "    \n",
    "    y_data_noisy = y_data.clone()\n",
    "    \n",
    "    x_data = x_data.view((num_features, batch_size, seq_len)).transpose(2, 0).to(device)\n",
    "    y_data = y_data.transpose(1, 0).to(device)\n",
    "    y_data_noisy = y_data.clone()\n",
    "\n",
    "    return x_data, y_data, y_data_noisy\n",
    "\n",
    "def get_random(num_features=1, seq_len=26, device='cpu'):\n",
    "    assert num_features == 1\n",
    "    x_data, y_data = get_data()\n",
    "    ind = np.random.randint(0, 3302)\n",
    "    print('ind: ', ind)\n",
    "    x_data = x_data[ind, :]\n",
    "    y_data = y_data[ind, :]\n",
    "\n",
    "    print(x_data.shape)\n",
    "    print(y_data.shape)\n",
    "\n",
    "    # x_data = x_data.view((num_features, 1, seq_len)).transpose(2, 0).to(device)\n",
    "    # y_data = y_data.transpose(1, 0).to(device)\n",
    "    return x_data, y_data\n",
    "\n",
    "def get_specific(ind, num_features=1, seq_len=26, device='cpu'):\n",
    "    assert num_features == 1\n",
    "    x_data, y_data = get_data()\n",
    "    x_data = x_data[ind, :]\n",
    "    y_data = y_data[ind, :]\n",
    "\n",
    "    print(x_data.shape)\n",
    "    print(y_data.shape)\n",
    "\n",
    "    # x_data = x_data.view((num_features, 1, seq_len)).transpose(2, 0).to(device)\n",
    "    # y_data = y_data.transpose(1, 0).to(device)\n",
    "    return x_data, y_data\n",
    "\n",
    "def get_batch(\n",
    "    batch_size,\n",
    "    seq_len,\n",
    "    num_features,\n",
    "    device=\"cpu\",\n",
    "    noisy_target=True,\n",
    "    **_,\n",
    "):\n",
    "    assert num_features == 1\n",
    "\n",
    "    x_data, y_data = get_data()\n",
    "    print(x_data.shape)\n",
    "    x_data = x_data[:batch_size, :]\n",
    "    y_data = y_data[:batch_size, :]\n",
    "\n",
    "    y_data_noisy = y_data.clone()\n",
    "\n",
    "    x_data = x_data.view((num_features, batch_size, seq_len)).transpose(2, 0).to(device)\n",
    "    y_data = y_data.transpose(1, 0).to(device)\n",
    "    y_data_noisy = y_data.clone()\n",
    "\n",
    "    return x_data, y_data, y_data_noisy"
   ]
  },
  {
   "cell_type": "markdown",
   "id": "d6dc8df6-5267-4888-bc5a-e5e942331b79",
   "metadata": {},
   "source": [
    "## Load trained LC-PFN model"
   ]
  },
  {
   "cell_type": "code",
   "execution_count": 87,
   "id": "e4188fdb-4a1e-4508-9530-8d2448e238cb",
   "metadata": {
    "pycharm": {
     "is_executing": true
    }
   },
   "outputs": [
    {
     "name": "stdout",
     "output_type": "stream",
     "text": [
      "Using cpu:0 device\n",
      "init dist\n",
      "Not using distributed\n",
      "DataLoader.__dict__ {'num_steps': 100, 'get_batch_kwargs': {'batch_size': 1651, 'eval_pos_seq_len_sampler': <function train.<locals>.eval_pos_seq_len_sampler at 0x794f1beeca60>, 'seq_len_maximum': 26, 'device': 'cpu:0', 'num_features': 1, 'hyperparameters': {}}, 'num_features': 1}\n",
      "torch.Size([3302, 26])\n",
      "Style definition: None\n",
      "Using a Transformer with 6.46 M parameters\n"
     ]
    }
   ],
   "source": [
    "result = lcpfn.train_lcpfn(get_batch_func=get_batch, \n",
    "                         seq_len=26,\n",
    "                         emsize=256,\n",
    "                         nlayers=12,\n",
    "                         lr=0.001,\n",
    "                         batch_size=1651,\n",
    "                         epochs=0)\n",
    "\n",
    "result[2].load_state_dict(th.load(\"/home/patrik/new/dl/reproducibility/deep-learning-project/notebooks/models/model_1651.pth\"))\n",
    "model = result[2]\n",
    "\n",
    "model = lcpfn.LCPFN(model)"
   ]
  },
  {
   "cell_type": "markdown",
   "id": "03d80175-5f10-404a-85ce-59505f043691",
   "metadata": {},
   "source": [
    "## Generate a learning curve from the prior"
   ]
  },
  {
   "cell_type": "code",
   "execution_count": 88,
   "id": "fafc60aa-0681-494f-9be3-09b40e1495ad",
   "metadata": {
    "pycharm": {
     "is_executing": true
    }
   },
   "outputs": [
    {
     "data": {
      "text/plain": [
       "(0.0, 1.0)"
      ]
     },
     "execution_count": 88,
     "metadata": {},
     "output_type": "execute_result"
    },
    {
     "data": {
      "image/png": "[encoded data removed]",
      "text/plain": [
       "<Figure size 640x480 with 1 Axes>"
      ]
     },
     "metadata": {},
     "output_type": "display_data"
    }
   ],
   "source": [
    "prior = lcpfn.sample_from_prior(np.random)\n",
    "curve, _ = prior()\n",
    "plt.plot(curve, \"black\") \n",
    "plt.ylim(0, 1)"
   ]
  },
  {
   "cell_type": "markdown",
   "id": "18d1ceef-30a8-47c7-9754-ed7bf194cd37",
   "metadata": {},
   "source": [
    "## Extrapolate the learning curve with a cutoff of 10% "
   ]
  },
  {
   "cell_type": "code",
   "execution_count": 89,
   "metadata": {},
   "outputs": [
    {
     "data": {
      "text/plain": [
       "array([0.28720967, 0.29362902, 0.29699121, 0.29922236, 0.30083223,\n",
       "       0.3020508 , 0.30300899, 0.30378867, 0.30444277, 0.30500596,\n",
       "       0.30550122, 0.30594403, 0.30634505, 0.30671183, 0.30704996,\n",
       "       0.30736363, 0.30765616, 0.30793018, 0.30818785, 0.30843098,\n",
       "       0.30866109, 0.30887945, 0.30908719, 0.30928525, 0.30947448,\n",
       "       0.30965561, 0.30982929, 0.30999608, 0.3101565 , 0.31031101,\n",
       "       0.31046001, 0.31060387, 0.31074293, 0.31087748, 0.31100781,\n",
       "       0.31113415, 0.31125675, 0.31137581, 0.31149152, 0.31160406,\n",
       "       0.3117136 , 0.31182029, 0.31192426, 0.31202566, 0.31212459,\n",
       "       0.31222118, 0.31231553, 0.31240774, 0.31249789, 0.31258609,\n",
       "       0.3126724 , 0.31275691, 0.31283969, 0.3129208 , 0.31300031,\n",
       "       0.31307828, 0.31315476, 0.31322981, 0.31330349, 0.31337583,\n",
       "       0.31344689, 0.31351671, 0.31358532, 0.31365278, 0.31371911,\n",
       "       0.31378436, 0.31384855, 0.31391173, 0.31397391, 0.31403513,\n",
       "       0.31409543, 0.31415481, 0.31421332, 0.31427098, 0.31432781,\n",
       "       0.31438383, 0.31443906, 0.31449354, 0.31454726, 0.31460027,\n",
       "       0.31465257, 0.31470418, 0.31475512, 0.31480541, 0.31485506,\n",
       "       0.3149041 , 0.31495252, 0.31500035, 0.3150476 , 0.31509429,\n",
       "       0.31514043, 0.31518603, 0.3152311 , 0.31527565, 0.3153197 ,\n",
       "       0.31536326, 0.31540634, 0.31544894, 0.31549108, 0.31553277])"
      ]
     },
     "execution_count": 89,
     "metadata": {},
     "output_type": "execute_result"
    }
   ],
   "source": [
    "curve"
   ]
  },
  {
   "cell_type": "code",
   "execution_count": 118,
   "id": "3610482a-5e21-4109-a3b3-16d937e26cd9",
   "metadata": {},
   "outputs": [
    {
     "name": "stdout",
     "output_type": "stream",
     "text": [
      "ind:  685\n",
      "torch.Size([26])\n",
      "torch.Size([26])\n"
     ]
    }
   ],
   "source": [
    "# construct \n",
    "\n",
    "# x = torch.arange(1, 101).unsqueeze(1)\n",
    "# y = torch.from_numpy(curve).float().unsqueeze(1)\n",
    "# cutoff = 10\n",
    "\n",
    "x, y = get_random()\n",
    "x = x.squeeze(dim=-1)\n",
    "cutoff = 13\n"
   ]
  },
  {
   "cell_type": "code",
   "execution_count": 119,
   "metadata": {},
   "outputs": [
    {
     "data": {
      "text/plain": [
       "torch.Size([26])"
      ]
     },
     "execution_count": 119,
     "metadata": {},
     "output_type": "execute_result"
    }
   ],
   "source": [
    "x.shape"
   ]
  },
  {
   "cell_type": "code",
   "execution_count": 120,
   "metadata": {},
   "outputs": [
    {
     "data": {
      "text/plain": [
       "torch.Size([26])"
      ]
     },
     "execution_count": 120,
     "metadata": {},
     "output_type": "execute_result"
    }
   ],
   "source": [
    "y.shape"
   ]
  },
  {
   "cell_type": "code",
   "execution_count": 121,
   "id": "31d375db-ec12-41d0-86b7-0ceffebdd908",
   "metadata": {},
   "outputs": [],
   "source": [
    "#predictions = model.predict_quantiles(x_train=x[:cutoff], y_train=y[:cutoff], x_test=x[cutoff:], qs=[0.05, 0.5, 0.95])\n",
    "\n",
    "predictions = model.forward(x_train=x[:cutoff], y_train=y[:cutoff], x_test=x[cutoff:])\n",
    "predictions = predictions.squeeze(-1)\n"
   ]
  },
  {
   "cell_type": "code",
   "execution_count": 122,
   "metadata": {},
   "outputs": [
    {
     "data": {
      "text/plain": [
       "13"
      ]
     },
     "execution_count": 122,
     "metadata": {},
     "output_type": "execute_result"
    }
   ],
   "source": [
    "cutoff"
   ]
  },
  {
   "cell_type": "code",
   "execution_count": 123,
   "metadata": {},
   "outputs": [
    {
     "data": {
      "text/plain": [
       "tensor([1.0000, 1.0000, 1.0000, 1.0000, 1.0000, 1.0000, 1.0000, 0.9998, 0.9998,\n",
       "        0.9998, 0.9995, 0.9993, 0.9991, 0.9987, 0.9987, 0.9986, 0.9986, 0.9984,\n",
       "        0.9981, 0.9981, 0.9980, 0.9979, 0.9979, 0.9979, 0.9977, 0.9975])"
      ]
     },
     "execution_count": 123,
     "metadata": {},
     "output_type": "execute_result"
    }
   ],
   "source": [
    "y"
   ]
  },
  {
   "cell_type": "code",
   "execution_count": 124,
   "metadata": {},
   "outputs": [
    {
     "data": {
      "text/plain": [
       "array([1.0124675, 1.0124677, 1.0124693, 1.0124695, 1.0124714, 1.0124748,\n",
       "       1.0124747, 1.0124801, 1.012485 , 1.0124853, 1.0124857, 1.0124913,\n",
       "       1.0124958], dtype=float32)"
      ]
     },
     "execution_count": 124,
     "metadata": {},
     "output_type": "execute_result"
    }
   ],
   "source": [
    "pred = predictions.detach().numpy().flatten()\n",
    "pred"
   ]
  },
  {
   "cell_type": "code",
   "execution_count": 125,
   "metadata": {},
   "outputs": [
    {
     "data": {
      "text/plain": [
       "(13,)"
      ]
     },
     "execution_count": 125,
     "metadata": {},
     "output_type": "execute_result"
    }
   ],
   "source": [
    "pred.shape"
   ]
  },
  {
   "cell_type": "code",
   "execution_count": 126,
   "metadata": {},
   "outputs": [
    {
     "data": {
      "text/plain": [
       "array([0.3075288 , 0.30899215, 0.3392969 , 0.3406572 , 0.37663916,\n",
       "       0.43585718, 0.43693423, 0.5344666 , 0.6179843 , 0.62098706,\n",
       "       0.63018316, 0.7342948 , 0.8092939 ], dtype=float32)"
      ]
     },
     "execution_count": 126,
     "metadata": {},
     "output_type": "execute_result"
    }
   ],
   "source": [
    "xs = x[cutoff:].numpy().flatten()\n",
    "xs"
   ]
  },
  {
   "cell_type": "code",
   "execution_count": 127,
   "metadata": {},
   "outputs": [
    {
     "data": {
      "text/plain": [
       "(13,)"
      ]
     },
     "execution_count": 127,
     "metadata": {},
     "output_type": "execute_result"
    }
   ],
   "source": [
    "xs.shape"
   ]
  },
  {
   "cell_type": "code",
   "execution_count": 128,
   "metadata": {},
   "outputs": [],
   "source": [
    "x_plot = x.numpy().flatten()"
   ]
  },
  {
   "cell_type": "code",
   "execution_count": 129,
   "metadata": {},
   "outputs": [
    {
     "data": {
      "text/plain": [
       "array([1.        , 1.        , 1.        , 1.        , 1.        ,\n",
       "       1.        , 1.        , 0.9998059 , 0.99978   , 0.99975914,\n",
       "       0.999532  , 0.9992959 , 0.999108  , 0.99873805, 0.998732  ,\n",
       "       0.9985842 , 0.99857754, 0.99840206, 0.9981133 , 0.998108  ,\n",
       "       0.9980218 , 0.997948  , 0.99794096, 0.99791944, 0.99767566,\n",
       "       0.9975    ], dtype=float32)"
      ]
     },
     "execution_count": 129,
     "metadata": {},
     "output_type": "execute_result"
    }
   ],
   "source": [
    "y_plot = y.numpy().flatten()\n",
    "y_plot"
   ]
  },
  {
   "cell_type": "code",
   "execution_count": 130,
   "id": "e96900b1-c844-4540-9d9c-183429c525f1",
   "metadata": {},
   "outputs": [
    {
     "data": {
      "text/plain": [
       "[<matplotlib.lines.Line2D at 0x794f1b94ba00>]"
      ]
     },
     "execution_count": 130,
     "metadata": {},
     "output_type": "execute_result"
    },
    {
     "data": {
      "image/png": "[encoded data removed]",
      "text/plain": [
       "<Figure size 640x480 with 1 Axes>"
      ]
     },
     "metadata": {},
     "output_type": "display_data"
    }
   ],
   "source": [
    "plt.scatter(xs, pred, color='red')\n",
    "plt.scatter(x[:cutoff], y[:cutoff], color='blue')\n",
    "plt.axvline(x[cutoff]) \n",
    "plt.plot(x_plot, y_plot, color='black')\n",
    "plt.title('Model: ')\n",
    "# plt.ylim([0, max(list(y_plot) + list(pred))])"
   ]
  },
  {
   "cell_type": "code",
   "execution_count": 131,
   "id": "5a728979",
   "metadata": {},
   "outputs": [
    {
     "data": {
      "text/plain": [
       "<matplotlib.collections.PathCollection at 0x794f1bba81f0>"
      ]
     },
     "execution_count": 131,
     "metadata": {},
     "output_type": "execute_result"
    },
    {
     "data": {
      "image/png": "[encoded data removed]",
      "text/plain": [
       "<Figure size 640x480 with 1 Axes>"
      ]
     },
     "metadata": {},
     "output_type": "display_data"
    }
   ],
   "source": [
    "plt.scatter(x_plot, y_plot)"
   ]
  },
  {
   "cell_type": "code",
   "execution_count": 156,
   "metadata": {},
   "outputs": [],
   "source": [
    "def plot_ind_model(ind, model_name):\n",
    "    emsize_vs_model = {\n",
    "        \"model_1651.pth\": 256,\n",
    "        \"model_256_12.pth\": 256,\n",
    "        \"model_256_10.pth\": 256,\n",
    "        \"model_256_8.pth\": 256,\n",
    "        \"model_128_12.pth\": 128,\n",
    "        \"model_128_10.pth\": 128,\n",
    "        \"model_128_8.pth\": 128,\n",
    "    }\n",
    "\n",
    "    nlayers_vs_model = {\n",
    "        \"model_1651.pth\": 12,\n",
    "        \"model_256_12.pth\": 12,\n",
    "        \"model_256_10.pth\": 10,\n",
    "        \"model_256_8.pth\": 8,\n",
    "        \"model_128_12.pth\": 12,\n",
    "        \"model_128_10.pth\": 10,\n",
    "        \"model_128_8.pth\": 8,\n",
    "    }\n",
    "\n",
    "    batch_vs_model = {\n",
    "        \"model_1651.pth\": 1651,\n",
    "        \"model_256_12.pth\": 1000,\n",
    "        \"model_256_10.pth\": 1000,\n",
    "        \"model_256_8.pth\": 1000,\n",
    "        \"model_128_12.pth\": 1000,\n",
    "        \"model_128_10.pth\": 1000,\n",
    "        \"model_128_8.pth\": 1000,\n",
    "    }\n",
    "\n",
    "    emsize = emsize_vs_model[model_name]\n",
    "    nlayers = nlayers_vs_model[model_name]\n",
    "    batch = batch_vs_model[model_name]\n",
    "\n",
    "    result = lcpfn.train_lcpfn(get_batch_func=get_batch, \n",
    "                         seq_len=26,\n",
    "                         emsize=emsize,\n",
    "                         nlayers=nlayers,\n",
    "                         lr=0.001,\n",
    "                         batch_size=batch,\n",
    "                         epochs=0)\n",
    "\n",
    "    model_path = \"/home/patrik/new/dl/reproducibility/deep-learning-project/notebooks/models/\"\n",
    "    result[2].load_state_dict(th.load(os.path.join(model_path, model_name)))\n",
    "    model = result[2]\n",
    "\n",
    "    model = lcpfn.LCPFN(model)\n",
    "    \n",
    "    \n",
    "    x, y = get_specific(ind)\n",
    "    x = x.squeeze(dim=-1)\n",
    "    cutoff = 13\n",
    "\n",
    "    predictions = model.forward(x_train=x[:cutoff], y_train=y[:cutoff], x_test=x[cutoff:])\n",
    "    predictions = predictions.squeeze(-1)\n",
    "    pred = predictions.detach().numpy().flatten()\n",
    "    xs = x[cutoff:].numpy().flatten()\n",
    "\n",
    "    x_plot = x.numpy().flatten()\n",
    "    y_plot = x.numpy().flatten()\n",
    "\n",
    "    fig = plt.figure()    \n",
    "    plt.scatter(xs, pred, color='red')\n",
    "    plt.scatter(x, y, color='green')\n",
    "    plt.scatter(x[:cutoff], y[:cutoff], color='blue')\n",
    "    plt.axvline(x[cutoff]) \n",
    "    # plt.plot(x_plot, y_plot, color='black')\n",
    "    plt.title(f'Embedding size: {emsize}, Batch size: {batch}, Layers: {nlayers}')\n",
    "    plt.xlabel(\"Training size (normalized)\")\n",
    "    plt.ylabel(\"Accuracy\")\n",
    "    plt.savefig(f\"{model_name[:-4]}.png\", dpi=fig.dpi)\n",
    "    "
   ]
  },
  {
   "cell_type": "code",
   "execution_count": 157,
   "metadata": {},
   "outputs": [
    {
     "name": "stdout",
     "output_type": "stream",
     "text": [
      "Using cpu:0 device\n",
      "init dist\n",
      "Not using distributed\n",
      "DataLoader.__dict__ {'num_steps': 100, 'get_batch_kwargs': {'batch_size': 1000, 'eval_pos_seq_len_sampler': <function train.<locals>.eval_pos_seq_len_sampler at 0x794f1a1b4310>, 'seq_len_maximum': 26, 'device': 'cpu:0', 'num_features': 1, 'hyperparameters': {}}, 'num_features': 1}\n",
      "torch.Size([3302, 26])\n",
      "Style definition: None\n",
      "Using a Transformer with 1.09 M parameters\n",
      "torch.Size([26])\n",
      "torch.Size([26])\n"
     ]
    },
    {
     "data": {
      "image/png": "[encoded data removed]",
      "text/plain": [
       "<Figure size 640x480 with 1 Axes>"
      ]
     },
     "metadata": {},
     "output_type": "display_data"
    }
   ],
   "source": [
    "plot_ind_model(685, \"model_128_8.pth\")"
   ]
  },
  {
   "cell_type": "code",
   "execution_count": null,
   "metadata": {},
   "outputs": [],
   "source": []
  }
 ],
 "metadata": {
  "kernelspec": {
   "display_name": "lcpfn",
   "language": "python",
   "name": "python3"
  },
  "language_info": {
   "codemirror_mode": {
    "name": "ipython",
    "version": 3
   },
   "file_extension": ".py",
   "mimetype": "text/x-python",
   "name": "python",
   "nbconvert_exporter": "python",
   "pygments_lexer": "ipython3",
   "version": "3.9.19"
  }
 },
 "nbformat": 4,
 "nbformat_minor": 5
}
