{
  "cells": [
    {
      "cell_type": "code",
      "execution_count": 1,
      "metadata": {
        "id": "uF25NSM2jQxv"
      },
      "outputs": [],
      "source": [
        "%load_ext autoreload\n",
        "%autoreload 2"
      ]
    },
    {
      "cell_type": "code",
      "execution_count": 2,
      "metadata": {
        "id": "omk-SitljQx0"
      },
      "outputs": [],
      "source": [
        "%cd -q .."
      ]
    },
    {
      "cell_type": "code",
      "execution_count": 3,
      "metadata": {
        "colab": {
          "base_uri": "https://localhost:8080/"
        },
        "id": "Zrwcspd8jQx2",
        "outputId": "1e115eea-7205-4e8d-884d-9a35e1ffe9f8"
      },
      "outputs": [
        {
          "name": "stderr",
          "output_type": "stream",
          "text": [
            "/home/antonio14bernardes/.local/lib/python3.8/site-packages/torch/cuda/__init__.py:82: UserWarning: CUDA initialization: The NVIDIA driver on your system is too old (found version 10010). Please update your GPU driver by downloading and installing a new version from the URL: http://www.nvidia.com/Download/index.aspx Alternatively, go to: https://pytorch.org to install a PyTorch version that has been compiled with your version of the CUDA driver. (Triggered internally at  ../c10/cuda/CUDAFunctions.cpp:112.)\n",
            "  return torch._C._cuda_getDeviceCount() > 0\n"
          ]
        },
        {
          "name": "stdout",
          "output_type": "stream",
          "text": [
            "1.11.0+cu102\n"
          ]
        }
      ],
      "source": [
        "import lcpfn\n",
        "import torch\n",
        "import numpy as np\n",
        "from matplotlib import pyplot as plt\n",
        "import torch.nn as nn\n",
        "\n",
        "print(torch.__version__)"
      ]
    },
    {
      "cell_type": "markdown",
      "metadata": {
        "id": "_dhkhXEvjQx3"
      },
      "source": [
        "# Training the LCPFN"
      ]
    },
    {
      "cell_type": "code",
      "execution_count": null,
      "metadata": {
        "colab": {
          "base_uri": "https://localhost:8080/",
          "height": 400
        },
        "id": "_nHnLBlNjQx5",
        "outputId": "2778df34-4cdf-429c-d40f-cb503fbf2e87"
      },
      "outputs": [],
      "source": [
        "%pip install torch==1.11.0"
      ]
    },
    {
      "cell_type": "code",
      "execution_count": null,
      "metadata": {
        "colab": {
          "base_uri": "https://localhost:8080/"
        },
        "id": "Bt2BrGFbjQx7",
        "outputId": "776f3d41-55fb-487d-a30d-8d76a49a0834"
      },
      "outputs": [],
      "source": [
        "get_batch_func = lcpfn.create_get_batch_func(prior=lcpfn.sample_from_prior)\n",
        "\n",
        "# Authors tried\n",
        "# emsize ∈ [128, 256, 512]\n",
        "# nlayers ∈ [3, 6, 12]\n",
        "# nb_data ∈ [100k, 1M, 10M]\n",
        "# steps_per_epoch is hardcoded to 100\n",
        "# num_curves is currently 50000\n",
        "# embedding size = 256\n",
        "# attention heads = 2\n",
        "\n",
        "result = lcpfn.train_lcpfn(get_batch_func=get_batch_func,\n",
        "                          seq_len=100,\n",
        "                         emsize=256,\n",
        "                         nlayers=3,\n",
        "                         num_borders=1000,\n",
        "                         lr=0.001,\n",
        "                         batch_size=500,\n",
        "                         epochs=300)\n",
        "\n",
        "transformer_model = result[2]\n",
        "\n"
      ]
    },
    {
      "cell_type": "code",
      "execution_count": null,
      "metadata": {
        "id": "kPNYY6hNjQx8"
      },
      "outputs": [],
      "source": [
        "model_save_path = \"lcpfn/trained_models/\"+\"reproduction_model.pt\""
      ]
    },
    {
      "cell_type": "code",
      "execution_count": null,
      "metadata": {
        "id": "5e8WB2zQjQx9"
      },
      "outputs": [],
      "source": [
        "# Save the model\n",
        "\n",
        "torch.save(transformer_model, model_save_path)"
      ]
    },
    {
      "cell_type": "markdown",
      "metadata": {
        "id": "POkMiFLOjQx-"
      },
      "source": [
        "# Getting the lc data"
      ]
    },
    {
      "cell_type": "code",
      "execution_count": null,
      "metadata": {
        "id": "Qv8ESnYE4uvI"
      },
      "outputs": [],
      "source": [
        "\n",
        "\n",
        "# Get the data for cutoff 10 inference\n",
        "prior_10 = lcpfn.sample_from_prior(np.random)\n",
        "curve_10, _ = prior_10()\n",
        "x_10 = torch.arange(1, 101).unsqueeze(1)\n",
        "y_10 = torch.from_numpy(curve_10).float().unsqueeze(1)\n",
        "cutoff_10 = 10\n",
        "data_10 = {'x': x_10, 'y': y_10, 'cutoff': cutoff_10}\n",
        "\n",
        "# Get the data for cutoff 20 inference\n",
        "prior_20 = lcpfn.sample_from_prior(np.random)\n",
        "curve_20, _ = prior_20()\n",
        "x_20 = torch.arange(1, 101).unsqueeze(1)\n",
        "y_20 = torch.from_numpy(curve_20).float().unsqueeze(1)\n",
        "cutoff_20 = 20\n",
        "data_20 = {'x': x_20, 'y': y_20, 'cutoff': cutoff_20}"
      ]
    },
    {
      "cell_type": "markdown",
      "metadata": {
        "id": "s9caSWD1jQyC"
      },
      "source": [
        "# Inference with LCPFN"
      ]
    },
    {
      "cell_type": "code",
      "execution_count": null,
      "metadata": {
        "id": "3vbdzaax5ptK"
      },
      "outputs": [],
      "source": [
        "# Load trained model\n",
        "lcpfn_model = lcpfn.LCPFN(model_save_path)\n",
        "\n",
        "# Predictions for cutoff = 10\n",
        "x = data_10['x']\n",
        "y = data_10['y']\n",
        "cutoff = data_10['cutoff']\n",
        "predictions_10 = lcpfn_model.predict_quantiles(x_train=x[:cutoff], y_train=y[:cutoff], x_test=x[cutoff:], qs=[0.05, 0.5, 0.95])\n",
        "\n",
        "# Predictions for cutoff = 20\n",
        "x = data_20['x']\n",
        "y = data_20['y']\n",
        "cutoff = data_20['cutoff']\n",
        "predictions_20 = lcpfn_model.predict_quantiles(x_train=x[:cutoff], y_train=y[:cutoff], x_test=x[cutoff:], qs=[0.05, 0.5, 0.95])\n",
        "\n",
        "\n",
        "\n"
      ]
    },
    {
      "cell_type": "code",
      "execution_count": null,
      "metadata": {
        "colab": {
          "base_uri": "https://localhost:8080/",
          "height": 429
        },
        "id": "5Jikycd-7CV_",
        "outputId": "43f47547-62a2-429e-9169-56cb1feea1ce"
      },
      "outputs": [],
      "source": [
        "# Plotting\n",
        "plt.figure(figsize=(10, 5))\n",
        "\n",
        "# Move x backward one unit\n",
        "for i in range(len(x_10)):\n",
        "  x_10[i] -= 1\n",
        "  x_20[i] -= 1\n",
        "\n",
        "\n",
        "# Plot target curves\n",
        "plt.plot(x_10, y_10, \"black\", label=\"Target for Cutoff 10\")\n",
        "plt.plot(x_20, y_20, \"grey\", label=\"Target for Cutoff 20\")\n",
        "\n",
        "# Plot extrapolations\n",
        "plt.plot(x_10[cutoff_10:], predictions_10[:, 1], \"blue\", label=\"Extrapolation for Cutoff 10\")\n",
        "plt.fill_between(x_10[cutoff_10:].flatten(), predictions_10[:, 0], predictions_10[:, 2], color=\"blue\", alpha=0.2, label=\"90% CI for Cutoff 10\")\n",
        "\n",
        "plt.plot(x_20[cutoff_20:], predictions_20[:, 1], \"green\", label=\"Extrapolation for Cutoff 20\")\n",
        "plt.fill_between(x_20[cutoff_20:].flatten(), predictions_20[:, 0], predictions_20[:, 2], color=\"green\", alpha=0.2, label=\"90% CI for Cutoff 20\")\n",
        "\n",
        "# Plot cutoff lines\n",
        "plt.axvline(x=cutoff_10, color='blue', linestyle='--', linewidth=0.5, label='Cutoff at 10')\n",
        "plt.axvline(x=cutoff_20, color='green', linestyle='--', linewidth=0.5, label='Cutoff at 20')\n",
        "\n",
        "plt.ylim(0, 1)\n",
        "plt.legend(loc=\"lower right\")\n",
        "plt.title(\"Model Extrapolation with Different Cutoffs\")\n",
        "plt.xlabel(\"X\")\n",
        "plt.ylabel(\"Y\")"
      ]
    },
    {
      "cell_type": "markdown",
      "metadata": {
        "id": "OGTs0HtBjQyE"
      },
      "source": [
        "# Inference with MCMC"
      ]
    },
    {
      "cell_type": "code",
      "execution_count": null,
      "metadata": {
        "colab": {
          "base_uri": "https://localhost:8080/",
          "height": 499
        },
        "id": "XCEK9mnHjQyE",
        "outputId": "e419c1c6-7994-4756-c2cd-85c39ab3c0df"
      },
      "outputs": [],
      "source": [
        "# MCMC code does not work with the same version of pytorch as the LC-PFN code, so update torch version\n",
        "\n",
        "%pip install torch --upgrade\n",
        "%pip install gpytorch\n",
        "%pip install botorch"
      ]
    },
    {
      "cell_type": "code",
      "execution_count": null,
      "metadata": {
        "id": "NMY1hEY-jQyE"
      },
      "outputs": [],
      "source": [
        "from lcpfn.priors.fast_gp_mix import get_model\n",
        "\n",
        "\n",
        "def get_mcmc_model_variable_chains(x, y, hyperparameters, device, num_samples, warmup_steps, num_chains, obs=True):\n",
        "    from pyro.infer.mcmc import NUTS, MCMC, HMC\n",
        "    import pyro\n",
        "    x = x.to(device)\n",
        "    y = y.to(device)\n",
        "    model, likelihood = get_model(x, y, hyperparameters, sample=False)\n",
        "    model.to(device)\n",
        "\n",
        "\n",
        "    def pyro_model(x, y):\n",
        "        sampled_model = model.pyro_sample_from_prior()\n",
        "        output = sampled_model.likelihood(sampled_model(x))\n",
        "        if obs:\n",
        "            return pyro.sample(\"obs\", output, obs=y)\n",
        "\n",
        "    nuts_kernel = NUTS(pyro_model)\n",
        "    mcmc_run = MCMC(nuts_kernel, num_samples=num_samples, warmup_steps=warmup_steps, num_chains=num_chains)#num_chains=1)\n",
        "    mcmc_run.run(x, y)\n",
        "    model.pyro_load_from_samples(mcmc_run.get_samples()) # pyro.infer wie noah?\n",
        "    model.eval()\n",
        "\n",
        "    return model, likelihood"
      ]
    },
    {
      "cell_type": "code",
      "execution_count": null,
      "metadata": {
        "id": "oV8ryFE39hWU"
      },
      "outputs": [],
      "source": [
        "\n",
        "# Authors tried\n",
        "# nsamples ∈ [100, 250, 500, 1000, 2000, 4000]\n",
        "# nwalkers ∈ [26, 50, 100]\n",
        "# burn-in ∈ [0, 50, 100, 500]\n",
        "# thin ∈ [1, 10, 100]\n",
        "\n",
        "hyperparameters = {'handmade': True} # Use the default handmade hyperparameters chosen by the authors\n",
        "device = 'cpu'\n",
        "num_samples = 100\n",
        "warmup_steps = 10\n",
        "num_chains = 100\n",
        "\n",
        "# For a cutoff of 10\n",
        "x = data_10['x']\n",
        "y = data_10['y']\n",
        "cutoff = data_10['cutoff']\n",
        "mcmc_model_10, likelihood_10 = get_mcmc_model_variable_chains(x[:cutoff].float(), y.flatten()[:cutoff].float(), hyperparameters, device, num_samples, warmup_steps, num_chains)\n",
        "with torch.no_grad():\n",
        "    predictions_10 = likelihood_10(mcmc_model_10(x[cutoff:].float()))\n",
        "    pred_mean_10 = predictions_10.mean.mean(0).squeeze()\n",
        "    pred_lower_10, pred_upper_10 = predictions_10.confidence_region()\n",
        "    pred_lower_10 = pred_lower_10.mean(0).squeeze()\n",
        "    pred_upper_10 = pred_upper_10.mean(0).squeeze()\n",
        "\n",
        "# For a cutoff of 20\n",
        "x = data_20['x']\n",
        "y = data_20['y']\n",
        "cutoff = data_20['cutoff']\n",
        "mcmc_model_20, likelihood_20 = get_mcmc_model_variable_chains(x[:cutoff].float(), y.flatten()[:cutoff].float(), hyperparameters, device, num_samples, warmup_steps, num_chains)\n",
        "with torch.no_grad():\n",
        "    predictions_20 = likelihood_20(mcmc_model_10(x[cutoff:].float()))\n",
        "    pred_mean_20 = predictions_20.mean.mean(0).squeeze()\n",
        "    pred_lower_20, pred_upper_20 = predictions_20.confidence_region()\n",
        "    pred_lower_20 = pred_upper_20.mean(0).squeeze()\n",
        "    pred_upper_20 = pred_upper_20.mean(0).squeeze()\n",
        "\n",
        "\n",
        "pred_mean_10, pred_mean_20"
      ]
    },
    {
      "cell_type": "code",
      "execution_count": null,
      "metadata": {
        "id": "zYStm3zpAP6N"
      },
      "outputs": [],
      "source": [
        "# Plotting the data and predictions\n",
        "plt.figure(figsize=(12, 6))\n",
        "\n",
        "# Plot predictions for cutoff = 10\n",
        "plt.plot(data_10['x'].flatten(), data_10['y'].flatten(), \"gray\", label=\"Data for Cutoff 10\")  # Actual data\n",
        "plt.plot(data_10['x'][data_10['cutoff']:].flatten(), pred_mean_10, \"blue\", label=\"Extrapolation for Cutoff 10\")\n",
        "plt.fill_between(data_10['x'][data_10['cutoff']:].flatten(), pred_lower_10, pred_upper_10, color=\"blue\", alpha=0.2, label=\"90% CI for Cutoff 10\")\n",
        "\n",
        "# Plot predictions for cutoff = 20\n",
        "plt.plot(data_20['x'].flatten(), data_20['y'].flatten(), \"lightgray\", label=\"Data for Cutoff 20\")  # Actual data\n",
        "plt.plot(data_20['x'][data_20['cutoff']:].flatten(), pred_mean_20, \"green\", label=\"Extrapolation for Cutoff 20\")\n",
        "plt.fill_between(data_20['x'][data_20['cutoff']:].flatten(), pred_lower_20, pred_upper_20, color=\"green\", alpha=0.2, label=\"90% CI for Cutoff 20\")\n",
        "\n",
        "# Plot cutoff lines\n",
        "plt.axvline(x=data_10['cutoff'], color='blue', linestyle='--', linewidth=0.5, label='Cutoff at 10')\n",
        "plt.axvline(x=data_20['cutoff'], color='green', linestyle='--', linewidth=0.5, label='Cutoff at 20')\n",
        "\n",
        "# Set plot limits, labels, title and legend\n",
        "plt.ylim(0, 1)\n",
        "plt.xlabel(\"X-axis\")\n",
        "plt.ylabel(\"Predicted Values\")\n",
        "plt.title(\"MCMC Model Extrapolation with Different Cutoffs\")\n",
        "plt.legend(loc=\"upper left\")"
      ]
    },
    {
      "cell_type": "markdown",
      "metadata": {},
      "source": [
        "# Testing obtained LC-PFN model"
      ]
    },
    {
      "cell_type": "code",
      "execution_count": 4,
      "metadata": {},
      "outputs": [],
      "source": [
        "model_save_path = \"lcpfn/trained_models/\"+\"reproduction_model.pt\"\n",
        "reproduction_model = lcpfn.LCPFN(model_save_path)\n",
        "given_model = lcpfn.LCPFN(\"EMSIZE512_NLAYERS12_NBUCKETS1000\")"
      ]
    },
    {
      "cell_type": "code",
      "execution_count": 27,
      "metadata": {},
      "outputs": [],
      "source": [
        "cutoff_list = [5, 10, 15, 20, 25, 30, 35, 40, 45, 50]\n",
        "num_curves = 20\n",
        "\n",
        "curves = []\n",
        "\n",
        "for i in range(num_curves):\n",
        "    prior = lcpfn.sample_from_prior(np.random)\n",
        "    curve, _ = prior()\n",
        "    \n",
        "    x = torch.arange(1, 101).unsqueeze(1)\n",
        "    y = torch.from_numpy(curve).float().unsqueeze(1)\n",
        "    \n",
        "    curves.append((x, y))"
      ]
    },
    {
      "cell_type": "code",
      "execution_count": 28,
      "metadata": {},
      "outputs": [],
      "source": [
        "import time\n",
        "\n",
        "class Trial:\n",
        "    def __init__(self, x = None, y = None, cutoff = None, time = None, prediction_quantiles = None, nll_losses = None, mse_losses = None):\n",
        "        self.x = x\n",
        "        self.y = y\n",
        "        self.cutoff = cutoff\n",
        "        self.time = time\n",
        "        self.prediction_quantiles = prediction_quantiles\n",
        "        self.nll_losses = nll_losses\n",
        "        self.mse_loss = mse_losses\n",
        "        \n",
        "        self.avg_nll_loss = None\n",
        "        \n",
        "    \n",
        "    def average_sequence_loss(self):\n",
        "        if self.nll_losses is not None and self.nll_losses.any():\n",
        "            self.avg_nll_loss = torch.mean(self.nll_losses)\n",
        "        \n",
        "        \n",
        "class Experiment:\n",
        "    def __init__(self):\n",
        "        self.trials = []\n",
        "        self.sum = 0\n",
        "        self.calls = 0\n",
        "        \n",
        "    def add_trial(self, trial):\n",
        "        self.sum += trial.mse_loss\n",
        "        self.trials.append(trial)\n",
        "        self.calls += 1\n",
        "    \n",
        "    def organize_losses(self):\n",
        "        self.cutoff_nll_losses = {}\n",
        "        self.cutoff_mse_losses = {}\n",
        "        nll_cutoff_count = {}\n",
        "        mse_cutoff_count = {}\n",
        "        \n",
        "        for trial in self.trials:\n",
        "            if trial.avg_nll_loss is not None and trial.avg_nll_loss.any():\n",
        "                self.cutoff_nll_losses[trial.cutoff] = self.cutoff_nll_losses.get(trial.cutoff, 0) + trial.avg_nll_loss\n",
        "                nll_cutoff_count[trial.cutoff] = nll_cutoff_count.get(trial.cutoff, 0) + 1\n",
        "            \n",
        "            if trial.mse_loss is not None and trial.mse_loss.any():\n",
        "                self.cutoff_mse_losses[trial.cutoff] = self.cutoff_mse_losses.get(trial.cutoff, 0) + trial.mse_loss\n",
        "                mse_cutoff_count[trial.cutoff] = mse_cutoff_count.get(trial.cutoff, 0) + 1\n",
        "        \n",
        "        for key in self.cutoff_nll_losses.keys():\n",
        "            self.cutoff_nll_losses[key] /= nll_cutoff_count[key]\n",
        "                    \n",
        "        for key in self.cutoff_mse_losses.keys():\n",
        "            self.cutoff_mse_losses[key] /= mse_cutoff_count[key]\n",
        "        \n",
        "        \n",
        "        sum = 0\n",
        "        for trial in self.trials:\n",
        "            sum += trial.mse_loss\n",
        "            \n",
        "        print(sum)\n",
        "    \n",
        "    def average_time(self):\n",
        "        self.avg_time = 0\n",
        "        for trial in self.trials:\n",
        "            self.avg_time += trial.time\n",
        "        \n",
        "        self.avg_time /= len(self.trials)\n",
        "            \n",
        "mse = nn.MSELoss()\n"
      ]
    },
    {
      "cell_type": "code",
      "execution_count": 29,
      "metadata": {},
      "outputs": [
        {
          "name": "stdout",
          "output_type": "stream",
          "text": [
            "tensor(0.1287)\n",
            "tensor(0.0852)\n",
            "tensor(0.1287) tensor(0.0852)\n",
            "200\n",
            "200\n"
          ]
        }
      ],
      "source": [
        "# Create Experiment object\n",
        "reproduction_exp = Experiment()\n",
        "given_exp = Experiment()\n",
        "\n",
        "sum = 0\n",
        "\n",
        "for cutoff in cutoff_list:\n",
        "    for curve in curves:\n",
        "        \n",
        "        x, y = curve\n",
        "        \n",
        "        # For the newly trained model:\n",
        "        \n",
        "        reproduction_start = time.time()\n",
        "        reproduction_pred_quant = reproduction_model.predict_quantiles(x_train=x[:cutoff], y_train=y[:cutoff], x_test=x[cutoff:], qs=[0.05, 0.5, 0.95])\n",
        "        reproduction_pred_mean = reproduction_model.predict_mean(x_train=x[:cutoff], y_train=y[:cutoff], x_test=x[cutoff:])\n",
        "        reproduction_end = time.time()\n",
        "        reproduction_time = reproduction_end - reproduction_start\n",
        "        \n",
        "        reproduction_nll_losses = reproduction_model.nll_loss(x_train=x[:cutoff], y_train=y[:cutoff], x_test=x[cutoff:], y_test=y[cutoff:])\n",
        "        reproduction_mse_losses = mse(reproduction_pred_mean, y[cutoff:])\n",
        "        \n",
        "        reproduction_trial = Trial(x, y, cutoff, reproduction_time, reproduction_pred_quant, reproduction_nll_losses, reproduction_mse_losses)\n",
        "        reproduction_trial.average_sequence_loss()\n",
        "        reproduction_exp.add_trial(reproduction_trial)\n",
        "        \n",
        "        # For the already trained model provided by the authors:\n",
        "        \n",
        "        given_start = time.time()\n",
        "        given_pred_quant = given_model.predict_quantiles(x_train=x[:cutoff], y_train=y[:cutoff], x_test=x[cutoff:], qs=[0.05, 0.5, 0.95])\n",
        "        given_pred_mean = given_model.predict_mean(x_train=x[:cutoff], y_train=y[:cutoff], x_test=x[cutoff:])\n",
        "        given_end = time.time()\n",
        "        given_time = given_end - given_start\n",
        "        \n",
        "        given_nll_losses = given_model.nll_loss(x_train=x[:cutoff], y_train=y[:cutoff], x_test=x[cutoff:], y_test=y[cutoff:])\n",
        "        given_mse_losses = mse(given_pred_mean, y[cutoff:])\n",
        "        \n",
        "        given_trial = Trial(x, y, cutoff, given_time, given_pred_quant, given_nll_losses, given_mse_losses)\n",
        "        given_trial.average_sequence_loss()\n",
        "        given_exp.add_trial(given_trial)\n",
        "        \n",
        "        sum += given_trial.mse_loss\n",
        "        \n",
        "        \n",
        "# Get an average loss per cutoff value\n",
        "reproduction_exp.organize_losses()\n",
        "given_exp.organize_losses()\n",
        "\n",
        "# Get an average inference runtime per model\n",
        "reproduction_exp.average_time()\n",
        "given_exp.average_time()"
      ]
    },
    {
      "cell_type": "code",
      "execution_count": 30,
      "metadata": {},
      "outputs": [
        {
          "name": "stdout",
          "output_type": "stream",
          "text": [
            "Average Inference Times:\n",
            "Reproduction Model:  0.016707750558853148\n",
            "Given Model:  0.11672290563583373\n"
          ]
        },
        {
          "data": {
            "image/png": "[encoded data removed]",
            "text/plain": [
              "<Figure size 720x432 with 1 Axes>"
            ]
          },
          "metadata": {
            "needs_background": "light"
          },
          "output_type": "display_data"
        }
      ],
      "source": [
        "\n",
        "reproduction_cutoffs, reproduction_mse = zip(*sorted(reproduction_exp.cutoff_mse_losses.items()))\n",
        "given_cutoffs, given_mse = zip(*sorted(given_exp.cutoff_mse_losses.items()))\n",
        "\n",
        "# Create the plot\n",
        "plt.figure(figsize=(10, 6))\n",
        "plt.plot(reproduction_cutoffs, reproduction_mse, label='Reproduction Model Loss', marker='o', linestyle='-', color='b')\n",
        "plt.plot(given_cutoffs, given_mse, label='Given Model Loss', marker='s', linestyle='--', color='r')\n",
        "\n",
        "# Adding titles and labels\n",
        "plt.title('Comparison of Model Losses')\n",
        "plt.xlabel('Cutoff')\n",
        "plt.ylabel('MSE Loss')\n",
        "plt.grid(False)\n",
        "plt.legend()\n",
        "\n",
        "print(\"Average Inference Times:\")\n",
        "print(\"Reproduction Model: \", reproduction_exp.avg_time)\n",
        "print(\"Given Model: \", given_exp.avg_time)        "
      ]
    },
    {
      "cell_type": "code",
      "execution_count": null,
      "metadata": {},
      "outputs": [],
      "source": []
    }
  ],
  "metadata": {
    "accelerator": "GPU",
    "colab": {
      "gpuType": "T4",
      "provenance": []
    },
    "kernelspec": {
      "display_name": "Python 3",
      "name": "python3"
    },
    "language_info": {
      "codemirror_mode": {
        "name": "ipython",
        "version": 3
      },
      "file_extension": ".py",
      "mimetype": "text/x-python",
      "name": "python",
      "nbconvert_exporter": "python",
      "pygments_lexer": "ipython3",
      "version": "3.8.10"
    }
  },
  "nbformat": 4,
  "nbformat_minor": 0
}
